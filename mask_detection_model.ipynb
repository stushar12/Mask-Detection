{
  "nbformat": 4,
  "nbformat_minor": 0,
  "metadata": {
    "colab": {
      "name": "mask_detection_model.ipynb",
      "provenance": []
    },
    "kernelspec": {
      "name": "python3",
      "display_name": "Python 3"
    },
    "language_info": {
      "name": "python"
    },
    "accelerator": "GPU"
  },
  "cells": [
    {
      "cell_type": "code",
      "metadata": {
        "id": "ji2z8LhiS2gz"
      },
      "source": [
        "# import the necessary packages\n",
        "from tensorflow.keras.preprocessing.image import ImageDataGenerator\n",
        "from tensorflow.keras.applications import MobileNetV2\n",
        "from tensorflow.keras.layers import MaxPooling2D\n",
        "from tensorflow.keras.layers import Dropout\n",
        "from tensorflow.keras.layers import Flatten\n",
        "from tensorflow.keras.layers import Dense\n",
        "from tensorflow.keras.layers import Input\n",
        "from tensorflow.keras.models import Model\n",
        "from tensorflow.keras.optimizers import Adam\n",
        "from tensorflow.keras.applications.mobilenet_v2 import preprocess_input\n",
        "from tensorflow.keras.preprocessing.image import img_to_array\n",
        "from tensorflow.keras.preprocessing.image import load_img\n",
        "from tensorflow.keras.utils import to_categorical\n",
        "from sklearn.preprocessing import LabelBinarizer\n",
        "from sklearn.model_selection import train_test_split\n",
        "from sklearn.metrics import classification_report\n",
        "from imutils import paths\n",
        "import matplotlib.pyplot as plt\n",
        "import numpy as np\n",
        "import os"
      ],
      "execution_count": 34,
      "outputs": []
    },
    {
      "cell_type": "code",
      "metadata": {
        "id": "yqBzucZaTCcW"
      },
      "source": [
        "# initialize the initial learning rate, number of epochs to train for,\n",
        "# and batch size\n",
        "INIT_LR = 1e-4\n",
        "EPOCHS = 10\n",
        "BS = 32"
      ],
      "execution_count": 19,
      "outputs": []
    },
    {
      "cell_type": "code",
      "metadata": {
        "colab": {
          "base_uri": "https://localhost:8080/"
        },
        "id": "Z0Q0r66iTHLo",
        "outputId": "1edbbd29-b930-4cab-af0c-e913e6ff6ddb"
      },
      "source": [
        "!git clone https://github.com/balajisrinivas/Face-Mask-Detection.git"
      ],
      "execution_count": 3,
      "outputs": [
        {
          "output_type": "stream",
          "text": [
            "Cloning into 'Face-Mask-Detection'...\n",
            "remote: Enumerating objects: 3764, done.\u001b[K\n",
            "remote: Total 3764 (delta 0), reused 0 (delta 0), pack-reused 3764\u001b[K\n",
            "Receiving objects: 100% (3764/3764), 143.05 MiB | 38.53 MiB/s, done.\n",
            "Resolving deltas: 100% (2/2), done.\n"
          ],
          "name": "stdout"
        }
      ]
    },
    {
      "cell_type": "code",
      "metadata": {
        "id": "jydCezbyTR3l"
      },
      "source": [
        "DIRECTORY =\"/content/Face-Mask-Detection/dataset\""
      ],
      "execution_count": 23,
      "outputs": []
    },
    {
      "cell_type": "code",
      "metadata": {
        "id": "swGKctTaTldn"
      },
      "source": [
        "CATEGORIES = [\"with_mask\", \"without_mask\"]"
      ],
      "execution_count": 24,
      "outputs": []
    },
    {
      "cell_type": "code",
      "metadata": {
        "id": "HaUffv7hT1vW"
      },
      "source": [
        "data = []\n",
        "labels = []"
      ],
      "execution_count": 26,
      "outputs": []
    },
    {
      "cell_type": "code",
      "metadata": {
        "colab": {
          "base_uri": "https://localhost:8080/"
        },
        "id": "HHpBxbq4T5K-",
        "outputId": "c54a15ae-c5ed-436d-cc51-1141dc50ed1d"
      },
      "source": [
        "for category in CATEGORIES:\n",
        "    path = os.path.join(DIRECTORY, category)\n",
        "    for img in os.listdir(path):\n",
        "    \timg_path = os.path.join(path, img)\n",
        "    \timage = load_img(img_path, target_size=(224, 224))\n",
        "    \timage = img_to_array(image)\n",
        "    \timage = preprocess_input(image)\n",
        "\n",
        "    \tdata.append(image)\n",
        "    \tlabels.append(category)"
      ],
      "execution_count": 27,
      "outputs": [
        {
          "output_type": "stream",
          "text": [
            "/usr/local/lib/python3.7/dist-packages/PIL/Image.py:960: UserWarning: Palette images with Transparency expressed in bytes should be converted to RGBA images\n",
            "  \"Palette images with Transparency expressed in bytes should be \"\n"
          ],
          "name": "stderr"
        }
      ]
    },
    {
      "cell_type": "code",
      "metadata": {
        "id": "hBXn-kUDT9Da"
      },
      "source": [
        "# perform one-hot encoding on the labels\n",
        "lb = LabelBinarizer()\n",
        "labels = lb.fit_transform(labels)\n",
        "labels = to_categorical(labels)\n",
        "\n",
        "data = np.array(data, dtype=\"float32\")\n",
        "labels = np.array(labels)"
      ],
      "execution_count": 28,
      "outputs": []
    },
    {
      "cell_type": "code",
      "metadata": {
        "colab": {
          "base_uri": "https://localhost:8080/"
        },
        "id": "1ReO9uBub0TC",
        "outputId": "7df2aaf4-24df-4e2b-b723-433462b0a408"
      },
      "source": [
        "print(data.shape)\n",
        "print(labels.shape)"
      ],
      "execution_count": 52,
      "outputs": [
        {
          "output_type": "stream",
          "text": [
            "(3833, 224, 224, 3)\n",
            "(3833, 2)\n"
          ],
          "name": "stdout"
        }
      ]
    },
    {
      "cell_type": "code",
      "metadata": {
        "id": "mLuQe-4ZUHa3"
      },
      "source": [
        "(X_train, X_test, y_train, y_test) = train_test_split(data, labels,test_size=0.30, stratify=labels, random_state=0)\n",
        "#if variable y is a binary categorical variable with values 0 and 1 and there are 25% of zeros and 75% of ones, \n",
        "#(stratify=y) will make sure that your random split has 25% of 0's and 75% of 1's."
      ],
      "execution_count": 29,
      "outputs": []
    },
    {
      "cell_type": "code",
      "metadata": {
        "id": "XgTp9EFjUQTz"
      },
      "source": [
        "# construct the training image generator for data augmentation\n",
        "aug = ImageDataGenerator(\n",
        "\trotation_range=20,\n",
        "\tzoom_range=0.15,\n",
        "\twidth_shift_range=0.2,\n",
        "\theight_shift_range=0.2,\n",
        "\tshear_range=0.15,\n",
        "\thorizontal_flip=True,\n",
        "\tfill_mode=\"nearest\")\n",
        "\n",
        "#eg. When your image shift by 20% there is some space left over.\"nearest\" will fill the area with the nearest pixel and stretching it."
      ],
      "execution_count": 30,
      "outputs": []
    },
    {
      "cell_type": "code",
      "metadata": {
        "colab": {
          "base_uri": "https://localhost:8080/"
        },
        "id": "kGnwqhTDUUe-",
        "outputId": "f41e6e7f-9e9a-4ba6-feee-2a32d99aeb55"
      },
      "source": [
        "# load the MobileNetV2 network, ensuring the head FC layer sets are\n",
        "\n",
        "baseModel = MobileNetV2(weights=\"imagenet\", include_top=False,input_tensor=Input(shape=(224, 224, 3)))"
      ],
      "execution_count": 31,
      "outputs": [
        {
          "output_type": "stream",
          "text": [
            "WARNING:tensorflow:`input_shape` is undefined or non-square, or `rows` is not in [96, 128, 160, 192, 224]. Weights for input shape (224, 224) will be loaded as the default.\n"
          ],
          "name": "stdout"
        }
      ]
    },
    {
      "cell_type": "code",
      "metadata": {
        "colab": {
          "base_uri": "https://localhost:8080/"
        },
        "id": "6zQ7JxZLYpEH",
        "outputId": "4b4998d2-28ec-4f50-8d22-3449fc3e876a"
      },
      "source": [
        "baseModel.input"
      ],
      "execution_count": 43,
      "outputs": [
        {
          "output_type": "execute_result",
          "data": {
            "text/plain": [
              "<KerasTensor: shape=(None, 224, 224, 3) dtype=float32 (created by layer 'input_2')>"
            ]
          },
          "metadata": {
            "tags": []
          },
          "execution_count": 43
        }
      ]
    },
    {
      "cell_type": "code",
      "metadata": {
        "colab": {
          "base_uri": "https://localhost:8080/"
        },
        "id": "Hn22_RhlYt4d",
        "outputId": "5296d26c-85ed-4e18-cb88-2ace84d8df74"
      },
      "source": [
        "baseModel.output"
      ],
      "execution_count": 41,
      "outputs": [
        {
          "output_type": "execute_result",
          "data": {
            "text/plain": [
              "<KerasTensor: shape=(None, 7, 7, 1280) dtype=float32 (created by layer 'out_relu')>"
            ]
          },
          "metadata": {
            "tags": []
          },
          "execution_count": 41
        }
      ]
    },
    {
      "cell_type": "code",
      "metadata": {
        "id": "oSarZS-0UbMO"
      },
      "source": [
        "# construct the head of the model that will be placed on top of the base model\n",
        "headModel = baseModel.output\n",
        "headModel = MaxPooling2D(pool_size=(7, 7))(headModel)\n",
        "headModel = Flatten(name=\"flatten\")(headModel)\n",
        "headModel = Dense(128, activation=\"relu\")(headModel)\n",
        "headModel = Dropout(0.5)(headModel)\n",
        "headModel = Dense(2, activation=\"softmax\")(headModel)"
      ],
      "execution_count": 35,
      "outputs": []
    },
    {
      "cell_type": "code",
      "metadata": {
        "id": "hIDC1ocRUgob"
      },
      "source": [
        "# place the head FC model on top of the base model (this will become the actual model we will train)\n",
        "model = Model(inputs=baseModel.input, outputs=headModel)"
      ],
      "execution_count": 44,
      "outputs": []
    },
    {
      "cell_type": "code",
      "metadata": {
        "id": "F4Hxhw2LUjWH"
      },
      "source": [
        "# loop over all layers in the base model and freeze them so they will not  be trained again\n",
        "for layer in baseModel.layers:\n",
        "\tlayer.trainable = False"
      ],
      "execution_count": 45,
      "outputs": []
    },
    {
      "cell_type": "code",
      "metadata": {
        "colab": {
          "base_uri": "https://localhost:8080/"
        },
        "id": "2Ha0uu-vUqB3",
        "outputId": "444ca0b0-c88a-4bfc-f748-a05e9fbf4bcb"
      },
      "source": [
        "# compile our model\n",
        "print(\"[INFO] compiling model...\")\n",
        "opt = Adam(lr=INIT_LR, decay=INIT_LR / EPOCHS)\n",
        "model.compile(loss=\"binary_crossentropy\", optimizer=opt,metrics=[\"accuracy\"])"
      ],
      "execution_count": 46,
      "outputs": [
        {
          "output_type": "stream",
          "text": [
            "[INFO] compiling model...\n"
          ],
          "name": "stdout"
        },
        {
          "output_type": "stream",
          "text": [
            "/usr/local/lib/python3.7/dist-packages/tensorflow/python/keras/optimizer_v2/optimizer_v2.py:375: UserWarning: The `lr` argument is deprecated, use `learning_rate` instead.\n",
            "  \"The `lr` argument is deprecated, use `learning_rate` instead.\")\n"
          ],
          "name": "stderr"
        }
      ]
    },
    {
      "cell_type": "code",
      "metadata": {
        "colab": {
          "base_uri": "https://localhost:8080/"
        },
        "id": "JHBrdmw8bKjj",
        "outputId": "28ec47c8-977d-44f1-ed2a-1e20aea7c2ac"
      },
      "source": [
        "print(X_train.shape)\n",
        "print(y_train.shape)\n",
        "print(X_test.shape)\n",
        "print(y_test.shape)"
      ],
      "execution_count": 51,
      "outputs": [
        {
          "output_type": "stream",
          "text": [
            "(2683, 224, 224, 3)\n",
            "(2683, 2)\n",
            "(1150, 224, 224, 3)\n",
            "(1150, 2)\n"
          ],
          "name": "stdout"
        }
      ]
    },
    {
      "cell_type": "code",
      "metadata": {
        "colab": {
          "base_uri": "https://localhost:8080/"
        },
        "id": "OlumjFlwUyKf",
        "outputId": "98573920-0b9c-4c3a-b551-46e036536f68"
      },
      "source": [
        "# train the head of the network\n",
        "print(\"[INFO] training head...\")\n",
        "model_head = model.fit(\n",
        "\taug.flow(X_train, y_train, batch_size=BS),\n",
        "\tsteps_per_epoch=len(X_train) // BS,   #no of steps like here 83\n",
        "\tvalidation_data=(X_test, y_test),\n",
        "\tvalidation_steps=len(X_test) // BS,\n",
        "\tepochs=EPOCHS)"
      ],
      "execution_count": 47,
      "outputs": [
        {
          "output_type": "stream",
          "text": [
            "[INFO] training head...\n",
            "Epoch 1/10\n",
            "83/83 [==============================] - 32s 348ms/step - loss: 0.7766 - accuracy: 0.7888 - val_loss: 0.1735 - val_accuracy: 0.9452\n",
            "Epoch 2/10\n",
            "83/83 [==============================] - 30s 359ms/step - loss: 0.2389 - accuracy: 0.9189 - val_loss: 0.1124 - val_accuracy: 0.9661\n",
            "Epoch 3/10\n",
            "83/83 [==============================] - 29s 351ms/step - loss: 0.1592 - accuracy: 0.9510 - val_loss: 0.0943 - val_accuracy: 0.9678\n",
            "Epoch 4/10\n",
            "83/83 [==============================] - 29s 347ms/step - loss: 0.1320 - accuracy: 0.9574 - val_loss: 0.0837 - val_accuracy: 0.9713\n",
            "Epoch 5/10\n",
            "83/83 [==============================] - 28s 343ms/step - loss: 0.1201 - accuracy: 0.9593 - val_loss: 0.0728 - val_accuracy: 0.9765\n",
            "Epoch 6/10\n",
            "83/83 [==============================] - 29s 343ms/step - loss: 0.1052 - accuracy: 0.9676 - val_loss: 0.0673 - val_accuracy: 0.9783\n",
            "Epoch 7/10\n",
            "83/83 [==============================] - 29s 346ms/step - loss: 0.1081 - accuracy: 0.9657 - val_loss: 0.0631 - val_accuracy: 0.9817\n",
            "Epoch 8/10\n",
            "83/83 [==============================] - 29s 346ms/step - loss: 0.0872 - accuracy: 0.9717 - val_loss: 0.0590 - val_accuracy: 0.9826\n",
            "Epoch 9/10\n",
            "83/83 [==============================] - 28s 342ms/step - loss: 0.0792 - accuracy: 0.9721 - val_loss: 0.0556 - val_accuracy: 0.9835\n",
            "Epoch 10/10\n",
            "83/83 [==============================] - 28s 343ms/step - loss: 0.0740 - accuracy: 0.9740 - val_loss: 0.0538 - val_accuracy: 0.9809\n"
          ],
          "name": "stdout"
        }
      ]
    },
    {
      "cell_type": "code",
      "metadata": {
        "id": "bc0PwGcjU1L5"
      },
      "source": [
        "# make predictions on the testing set\n",
        "y_pred = model.predict(X_test, batch_size=BS)"
      ],
      "execution_count": 75,
      "outputs": []
    },
    {
      "cell_type": "code",
      "metadata": {
        "colab": {
          "base_uri": "https://localhost:8080/"
        },
        "id": "7vMo4YEMg2RH",
        "outputId": "95526171-aff1-4e15-f842-a745bd03e0e9"
      },
      "source": [
        "y_pred"
      ],
      "execution_count": 76,
      "outputs": [
        {
          "output_type": "execute_result",
          "data": {
            "text/plain": [
              "array([[1.00000000e+00, 1.12342535e-08],\n",
              "       [3.25875966e-08, 1.00000000e+00],\n",
              "       [1.00000000e+00, 2.78852108e-10],\n",
              "       ...,\n",
              "       [9.99999881e-01, 1.13409996e-07],\n",
              "       [6.34521075e-06, 9.99993682e-01],\n",
              "       [1.16605145e-06, 9.99998808e-01]], dtype=float32)"
            ]
          },
          "metadata": {
            "tags": []
          },
          "execution_count": 76
        }
      ]
    },
    {
      "cell_type": "code",
      "metadata": {
        "id": "Tgc2rNdpeVQR"
      },
      "source": [
        "# for each image in the testing set we need to find the index of the label with corresponding largest predicted probability\n",
        "y_pred = np.argmax(y_pred, axis=1)"
      ],
      "execution_count": 77,
      "outputs": []
    },
    {
      "cell_type": "code",
      "metadata": {
        "colab": {
          "base_uri": "https://localhost:8080/"
        },
        "id": "gJnF4S6ig7Ss",
        "outputId": "64a75d20-b7fb-49fd-8dbf-6786ba70bc96"
      },
      "source": [
        "y_pred"
      ],
      "execution_count": 78,
      "outputs": [
        {
          "output_type": "execute_result",
          "data": {
            "text/plain": [
              "array([0, 1, 0, ..., 0, 1, 1])"
            ]
          },
          "metadata": {
            "tags": []
          },
          "execution_count": 78
        }
      ]
    },
    {
      "cell_type": "code",
      "metadata": {
        "id": "56Dv-ShBhGiX"
      },
      "source": [
        "from sklearn.metrics import confusion_matrix"
      ],
      "execution_count": 66,
      "outputs": []
    },
    {
      "cell_type": "code",
      "metadata": {
        "id": "naqocfpvhLdz"
      },
      "source": [
        "cm=confusion_matrix(y_test.argmax(axis=1),y_pred)"
      ],
      "execution_count": 81,
      "outputs": []
    },
    {
      "cell_type": "code",
      "metadata": {
        "colab": {
          "base_uri": "https://localhost:8080/"
        },
        "id": "fzg7FPyqnCr3",
        "outputId": "e5496a99-46ad-41bd-cb0f-9c993df7eb6e"
      },
      "source": [
        "cm"
      ],
      "execution_count": 82,
      "outputs": [
        {
          "output_type": "execute_result",
          "data": {
            "text/plain": [
              "array([[566,   9],\n",
              "       [ 13, 562]])"
            ]
          },
          "metadata": {
            "tags": []
          },
          "execution_count": 82
        }
      ]
    },
    {
      "cell_type": "code",
      "metadata": {
        "colab": {
          "base_uri": "https://localhost:8080/"
        },
        "id": "Fg7NpmftiPVw",
        "outputId": "14650170-8741-4c43-ede5-b83d3fb28b52"
      },
      "source": [
        "from sklearn.metrics import accuracy_score\n",
        "accuracy_score(y_test.argmax(axis=1),y_pred)"
      ],
      "execution_count": 80,
      "outputs": [
        {
          "output_type": "execute_result",
          "data": {
            "text/plain": [
              "0.9808695652173913"
            ]
          },
          "metadata": {
            "tags": []
          },
          "execution_count": 80
        }
      ]
    },
    {
      "cell_type": "code",
      "metadata": {
        "colab": {
          "base_uri": "https://localhost:8080/",
          "height": 432
        },
        "id": "F7kCzeHlmYZn",
        "outputId": "29f5adda-bfa4-46f2-e571-03767330133c"
      },
      "source": [
        "from mlxtend.plotting import plot_confusion_matrix\n",
        " \n",
        "fig, ax = plot_confusion_matrix(conf_mat=cm, figsize=(6, 6), cmap=plt.cm.Blues)\n",
        "plt.xlabel('Predictions', fontsize=18)\n",
        "plt.ylabel('Actuals', fontsize=18)\n",
        "plt.title('Confusion Matrix', fontsize=18)\n",
        "plt.show()\n"
      ],
      "execution_count": 93,
      "outputs": [
        {
          "output_type": "display_data",
          "data": {
            "image/png": "[encoded data removed]",
            "text/plain": [
              "<Figure size 432x432 with 1 Axes>"
            ]
          },
          "metadata": {
            "tags": []
          }
        }
      ]
    },
    {
      "cell_type": "code",
      "metadata": {
        "colab": {
          "base_uri": "https://localhost:8080/"
        },
        "id": "14krFjy3ekL6",
        "outputId": "7089024d-f814-4944-ef7a-9ca12a011432"
      },
      "source": [
        "# show a nicely formatted classification report\n",
        "print(classification_report(y_test.argmax(axis=1), y_pred,target_names=lb.classes_))"
      ],
      "execution_count": 94,
      "outputs": [
        {
          "output_type": "stream",
          "text": [
            "              precision    recall  f1-score   support\n",
            "\n",
            "   with_mask       0.98      0.98      0.98       575\n",
            "without_mask       0.98      0.98      0.98       575\n",
            "\n",
            "    accuracy                           0.98      1150\n",
            "   macro avg       0.98      0.98      0.98      1150\n",
            "weighted avg       0.98      0.98      0.98      1150\n",
            "\n"
          ],
          "name": "stdout"
        }
      ]
    },
    {
      "cell_type": "code",
      "metadata": {
        "colab": {
          "base_uri": "https://localhost:8080/"
        },
        "id": "R1b26cQfe3Pa",
        "outputId": "17f623a3-52ae-4072-e9ed-bef822df2aae"
      },
      "source": [
        "# serialize the model to disk\n",
        "print(\"[INFO] saving mask detector model...\")\n",
        "model.save(\"mask_detector.model\", save_format=\"h5\")"
      ],
      "execution_count": 95,
      "outputs": [
        {
          "output_type": "stream",
          "text": [
            "[INFO] saving mask detector model...\n"
          ],
          "name": "stdout"
        },
        {
          "output_type": "stream",
          "text": [
            "/usr/local/lib/python3.7/dist-packages/tensorflow/python/keras/utils/generic_utils.py:497: CustomMaskWarning: Custom mask layers require a config and must override get_config. When loading, the custom mask layer must be passed to the custom_objects argument.\n",
            "  category=CustomMaskWarning)\n"
          ],
          "name": "stderr"
        }
      ]
    },
    {
      "cell_type": "code",
      "metadata": {
        "colab": {
          "base_uri": "https://localhost:8080/",
          "height": 299
        },
        "id": "6aVIhUyMfDpl",
        "outputId": "b5113bb2-2b93-485e-b67b-9bcfa83b959f"
      },
      "source": [
        "# plot the training loss and accuracy\n",
        "N = EPOCHS\n",
        "plt.style.use(\"ggplot\")\n",
        "plt.figure()\n",
        "plt.plot(np.arange(0, N), model_head.history[\"loss\"], label=\"train_loss\")\n",
        "plt.plot(np.arange(0, N), model_head.history[\"val_loss\"], label=\"val_loss\")\n",
        "plt.plot(np.arange(0, N), model_head.history[\"accuracy\"], label=\"train_acc\")\n",
        "plt.plot(np.arange(0, N), model_head.history[\"val_accuracy\"], label=\"val_acc\")\n",
        "plt.title(\"Training Loss and Accuracy\")\n",
        "plt.xlabel(\"Epoch #\")\n",
        "plt.ylabel(\"Loss/Accuracy\")\n",
        "plt.legend(loc=\"lower left\")\n",
        "plt.savefig(\"plot.png\")"
      ],
      "execution_count": 96,
      "outputs": [
        {
          "output_type": "display_data",
          "data": {
            "image/png": "[encoded data removed]",
            "text/plain": [
              "<Figure size 432x288 with 1 Axes>"
            ]
          },
          "metadata": {
            "tags": []
          }
        }
      ]
    },
    {
      "cell_type": "code",
      "metadata": {
        "id": "Q1PLD7RWfO9B"
      },
      "source": [
        ""
      ],
      "execution_count": null,
      "outputs": []
    }
  ]
}